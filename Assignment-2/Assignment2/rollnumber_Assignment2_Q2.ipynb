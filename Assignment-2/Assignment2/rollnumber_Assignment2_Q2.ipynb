{
 "cells": [
  {
   "cell_type": "markdown",
   "id": "improving-pepper",
   "metadata": {},
   "source": [
    "# Assignment 2 - Question 2\n",
    "The objective of this assignment is to get you familiarize with  the  problem  of  `Linear Regression`.\n",
    "\n",
    "## Instructions\n",
    "- Write your code and analysis in the indicated cells.\n",
    "- Ensure that this notebook runs without errors when the cells are run in sequence.\n",
    "- Do not attempt to change the contents of other cells.\n",
    "- No inbuilt functions to be used until specified\n",
    "\n",
    "## Submission\n",
    "- Ensure that this notebook runs without errors when the cells are run in sequence.\n",
    "- Rename the notebook to `<roll_number>_Assignment2_Q2.ipynb`."
   ]
  },
  {
   "cell_type": "markdown",
   "id": "final-transaction",
   "metadata": {},
   "source": [
    "## 2.0 Background about the dataset\n",
    "\n",
    "TLDR: You have 4 independent variables (`float`) for each molecule. You can use a linear combination of these 4 independent variables to predict the bandgap (dependent variable) of each molecule.\n",
    "\n",
    "You can read more about the problem in [Li et al, Bandgap tuning strategy by cations and halide ions of lead halide perovskites learned from machine learning, RSC Adv., 2021,11, 15688-15694](https://doi.org/10.1039/D1RA03117A)."
   ]
  },
  {
   "cell_type": "code",
   "execution_count": 10,
   "id": "lyric-olympus",
   "metadata": {},
   "outputs": [],
   "source": [
    "import csv\n",
    "import random\n",
    "import numpy as np\n",
    "import sys"
   ]
  },
  {
   "cell_type": "code",
   "execution_count": 11,
   "id": "hundred-receipt",
   "metadata": {},
   "outputs": [],
   "source": [
    "all_molecules = list()\n",
    "\n",
    "with open('bg_data.txt', 'r') as infile:\n",
    "    input_rows = csv.DictReader(infile)\n",
    "    \n",
    "    for row in input_rows:\n",
    "        current_mol = ([float(row['Cs']), float(row['FA']), float(row['Cl']), float(row['Br'])], float(row['Bandgap']))\n",
    "        all_molecules.append(current_mol)\n",
    "\n",
    "random.shuffle(all_molecules)\n",
    "\n",
    "\n",
    "num_train = int(len(all_molecules) * 0.8)\n",
    "\n",
    "# each point in x_train has 4 values - 1 for each feature\n",
    "x_train = [x[0] for x in all_molecules[:num_train]]\n",
    "# each point in y_train has 1 value - the bandgap of the molecule\n",
    "y_train = [x[1] for x in all_molecules[:num_train]]\n",
    "\n",
    "x_test = [x[0] for x in all_molecules[num_train:]]\n",
    "y_test = [x[1] for x in all_molecules[num_train:]]"
   ]
  },
  {
   "cell_type": "markdown",
   "id": "square-direction",
   "metadata": {},
   "source": [
    "### 2.1 Implement a Linear Regression model that minimizes the MSE **without using any libraries**. You may use NumPy to vectorize your code, but *do not use numpy.polyfit* or anything similar.\n",
    "\n",
    "2.1.1 Explain how you plan to implement Linear Regression in 5-10 lines."
   ]
  },
  {
   "cell_type": "markdown",
   "id": "frozen-forth",
   "metadata": {},
   "source": [
    "The steps for computing linear regression are as follows:\n",
    "\n",
    "- Separate the variables Features (X) and target(y).\n",
    "- Created a weighted matrix and set the bias to zero.\n",
    "- By multiplying the weights and feature matrices and applying bias, the estimated target value was calculated.\n",
    "- Calculate the cost function and dw and db, respectively, using the derivative of the cost function w.r.t w and b.\n",
    "- Gradient descent is used to update the weights and bias.\n",
    "- For 1000 iterations, the above process is being repeated.\n",
    "- We use the formula `Y = W' * X` to make predictions (where W' is Transpose of W)\n",
    "\n",
    "MSE is calculated for several learning rates, and the learning rate with the lowest MSE is chosen to plot the parity plot."
   ]
  },
  {
   "cell_type": "markdown",
   "id": "addressed-winter",
   "metadata": {},
   "source": [
    "2.1.2 Implement Linear Regression using `x_train` and `y_train` as the train dataset.\n",
    "\n",
    "2.1.2.1 Choose the best learning rate and print the learning rate for which you achieved the best MSE."
   ]
  },
  {
   "cell_type": "code",
   "execution_count": 12,
   "id": "c22a368f",
   "metadata": {},
   "outputs": [],
   "source": [
    "# Appending 1 (bias) to X dataset for both train and test.\n",
    "for x in x_train:\n",
    "    x.append(1)\n",
    "\n",
    "for x in x_test:\n",
    "    x.append(1)"
   ]
  },
  {
   "cell_type": "code",
   "execution_count": 13,
   "id": "angry-depression",
   "metadata": {},
   "outputs": [],
   "source": [
    "# implement Linear Regression\n",
    "learning_rate = [ 0.001, 0.005, 0.01, 0.3, 0.5 ]\n",
    "\n",
    "\n",
    "def cost_fn(W, X, Y, m):\n",
    "    \"\"\"\n",
    "    This Fn computes cost function.\n",
    "        J(W) = 1/2m * ((W`*X) - Y)^2\n",
    "\n",
    "    @return cost fn value\n",
    "    \"\"\"\n",
    "    ans = np.subtract(np.dot(X,np.transpose(W)), Y)\n",
    "    ans = np.dot(ans, ans)\n",
    "    # ans = np.dot(np.transpose(ans), ans)\n",
    "    ans = (0.5 * ans)/m\n",
    "    return ans\n",
    "\n",
    "\n",
    "def diff_cost_fn(j, W, X, Y, m):\n",
    "    \"\"\"\n",
    "    This Fn computes derivative of Cost Fn.\n",
    "        d(J(W))/d(Wj) = (1/m)*(W`*X) - Y) * Xj\n",
    "\n",
    "    @return derivative of Cost Fn\n",
    "    \"\"\"\n",
    "\n",
    "    ans = np.dot( X[:, j], np.subtract(np.dot(X, np.transpose(W)), Y))\n",
    "    ans = ans/m\n",
    "\n",
    "    return ans\n",
    "\n",
    "\n",
    "def linear_reg(X, Y, a):\n",
    "    \"\"\"\n",
    "    This Fn performs Gradient Descent to minimise cost function.\n",
    "\n",
    "    @params:\n",
    "        X = dataset of features, x_train\n",
    "        Y = dataset of target feature, y_train\n",
    "        a = learnign rate\n",
    "\n",
    "    @return\n",
    "        W = optimal W against learning rate \"a\"\n",
    "        cost_min = minimum cost function value for optimal W.\n",
    "    \"\"\"\n",
    "    W = np.zeros(X[0].shape)\n",
    "    w_tmp = np.zeros(X[0].shape)\n",
    "    w_min = np.array([])\n",
    "\n",
    "    cost_min = sys.maxsize\n",
    "    for i in range(100):\n",
    "        for j in range(len(W)):\n",
    "            w_tmp[j] = W[j] - (a * diff_cost_fn(j, W, X, Y, len(X)))\n",
    "        cost = cost_fn(w_tmp, X, Y, len(X))\n",
    "        W = w_tmp\n",
    "        \n",
    "        if cost <= cost_min:\n",
    "            w_min = W\n",
    "            cost_min = cost\n",
    "        \n",
    "    w_min = np.array(w_min)\n",
    "    \n",
    "    return w_min, cost_min\n",
    "\n",
    "\n",
    "def predict(W, X):\n",
    "    \"\"\"\n",
    "    This Fn predicts for a given optimal W for passed dataset X\n",
    "\n",
    "    @return predicted dataset Y\n",
    "    \"\"\"\n",
    "    return np.dot(X, np.transpose(W))\n",
    "\n",
    "\n"
   ]
  },
  {
   "cell_type": "code",
   "execution_count": 14,
   "id": "7012db33",
   "metadata": {},
   "outputs": [
    {
     "name": "stdout",
     "output_type": "stream",
     "text": [
      "The learning rate for which you achieved the best MSE 0.003809619929382043\n"
     ]
    }
   ],
   "source": [
    "\n",
    "X = np.array(x_train)\n",
    "Y = np.array(y_train)\n",
    "c_min = sys.maxsize\n",
    "w_optimal = np.array([])\n",
    "\n",
    "for a in learning_rate:\n",
    "    w_new, c = linear_reg(X, Y, a)\n",
    "\n",
    "    if(c_min > c):\n",
    "        c_min = c\n",
    "        w_optimal = w_new\n",
    "\n",
    "print(\"The learning rate for which you achieved the best MSE\", (c_min*2))"
   ]
  },
  {
   "cell_type": "markdown",
   "id": "angry-tampa",
   "metadata": {},
   "source": [
    "2.1.3 Make a [Parity Plot](https://en.wikipedia.org/wiki/Parity_plot) of your model's bandgap predictions on the test set with the actual values."
   ]
  },
  {
   "cell_type": "code",
   "execution_count": 15,
   "id": "foster-center",
   "metadata": {},
   "outputs": [
    {
     "data": {
      "image/png": "[encoded data removed]",
      "text/plain": [
       "<Figure size 720x1440 with 1 Axes>"
      ]
     },
     "metadata": {
      "needs_background": "light"
     },
     "output_type": "display_data"
    }
   ],
   "source": [
    "# Get the predictions of x_test into `y_pred`\n",
    "\n",
    "#\n",
    "# ...\n",
    "y_pred = predict(w_optimal, x_test)\n",
    "\n",
    "\n",
    "import matplotlib.pyplot as plt\n",
    "fig, ax = plt.subplots(figsize=(10,20))\n",
    "\n",
    "ax.scatter(y_test, y_pred)\n",
    "\n",
    "lims = [\n",
    "    np.min([ax.get_xlim(), ax.get_ylim()]),\n",
    "    np.max([ax.get_xlim(), ax.get_ylim()]),\n",
    "]\n",
    "ax.plot(lims, lims, 'k-', alpha=0.75, zorder=0)\n",
    "ax.set_aspect('equal')\n",
    "ax.set_xlim(lims)\n",
    "ax.set_ylim(lims)\n",
    "\n",
    "ax.set_title('Parity Plot of Custom Linear Regression')\n",
    "ax.set_xlabel('Ground truth bandgap values')\n",
    "ax.set_ylabel('Predicted bandgap values')\n",
    "plt.show()"
   ]
  },
  {
   "cell_type": "markdown",
   "id": "dominant-chaos",
   "metadata": {},
   "source": [
    "### 2.2 Implement Ridge regression\n",
    "2.2.1 Explain Ridge regression briefly in 1-2 lines."
   ]
  },
  {
   "cell_type": "markdown",
   "id": "happy-cyprus",
   "metadata": {},
   "source": [
    "We use regularization for minimizing the overfitting of data by penalizing the learning. \n",
    "**Ridge Regression**: In ridge regression we performs L2 regularization, i.e. we add penalty equivalent to square of the magnitude of coefficients.\n",
    "\n",
    "`Minimization objective = Least Squares(Without Regularization) + α * (sum of square of coefficients)`\n",
    "\n",
    "Additional term is called ridge penality and makes this function less sensitive towards training data."
   ]
  },
  {
   "cell_type": "markdown",
   "id": "tight-forwarding",
   "metadata": {},
   "source": [
    "2.2.2 Implement Ridge regression and make a table of different RMSE scores you achieved with different values of alpha. What does the parameter `alpha` do? How does it affect the results here? Explain in 5-10 lines in total. (You can use scikit-learn from this cell onwards)"
   ]
  },
  {
   "cell_type": "code",
   "execution_count": 16,
   "id": "violent-northern",
   "metadata": {},
   "outputs": [
    {
     "data": {
      "text/html": [
       "<div>\n",
       "<style scoped>\n",
       "    .dataframe tbody tr th:only-of-type {\n",
       "        vertical-align: middle;\n",
       "    }\n",
       "\n",
       "    .dataframe tbody tr th {\n",
       "        vertical-align: top;\n",
       "    }\n",
       "\n",
       "    .dataframe thead th {\n",
       "        text-align: right;\n",
       "    }\n",
       "</style>\n",
       "<table border=\"1\" class=\"dataframe\">\n",
       "  <thead>\n",
       "    <tr style=\"text-align: right;\">\n",
       "      <th></th>\n",
       "      <th>alpha</th>\n",
       "      <th>MSE</th>\n",
       "    </tr>\n",
       "  </thead>\n",
       "  <tbody>\n",
       "    <tr>\n",
       "      <th>0</th>\n",
       "      <td>100.000</td>\n",
       "      <td>0.306568</td>\n",
       "    </tr>\n",
       "    <tr>\n",
       "      <th>1</th>\n",
       "      <td>10.000</td>\n",
       "      <td>0.200315</td>\n",
       "    </tr>\n",
       "    <tr>\n",
       "      <th>2</th>\n",
       "      <td>1.000</td>\n",
       "      <td>0.114636</td>\n",
       "    </tr>\n",
       "    <tr>\n",
       "      <th>3</th>\n",
       "      <td>0.100</td>\n",
       "      <td>0.117462</td>\n",
       "    </tr>\n",
       "    <tr>\n",
       "      <th>4</th>\n",
       "      <td>0.010</td>\n",
       "      <td>0.119087</td>\n",
       "    </tr>\n",
       "    <tr>\n",
       "      <th>5</th>\n",
       "      <td>0.001</td>\n",
       "      <td>0.119269</td>\n",
       "    </tr>\n",
       "  </tbody>\n",
       "</table>\n",
       "</div>"
      ],
      "text/plain": [
       "     alpha       MSE\n",
       "0  100.000  0.306568\n",
       "1   10.000  0.200315\n",
       "2    1.000  0.114636\n",
       "3    0.100  0.117462\n",
       "4    0.010  0.119087\n",
       "5    0.001  0.119269"
      ]
     },
     "execution_count": 16,
     "metadata": {},
     "output_type": "execute_result"
    }
   ],
   "source": [
    "# you should not have imported sklearn before this point\n",
    "from sklearn.linear_model import Ridge\n",
    "from sklearn.metrics import mean_squared_error\n",
    "import pandas as pd\n",
    "\n",
    "alpha_list = [100, 10, 1, 0.1, 0.01, 0.001]\n",
    "\n",
    "rr_dict = dict()\n",
    "for a in alpha_list:\n",
    "    rr = Ridge(alpha=a)\n",
    "    rr.fit(x_train, y_train)\n",
    "\n",
    "    rr_dict[a] = np.sqrt(mean_squared_error(y_test, rr.predict(x_test)))\n",
    "\n",
    "pd.DataFrame(list(rr_dict.items()), columns=[\"alpha\", \"MSE\"])\n",
    "\n",
    "# implement Ridge regression and make a table where you explore the effect of different values of `alpha`"
   ]
  },
  {
   "cell_type": "markdown",
   "id": "adolescent-temperature",
   "metadata": {},
   "source": [
    "### 2.3 Implement Lasso regression\n",
    "2.3.1 Explain Lasso regression briefly in 1-2 lines."
   ]
  },
  {
   "cell_type": "markdown",
   "id": "320f9511",
   "metadata": {},
   "source": [
    "**Lasso regression** is similar to ridge regression and performs similar functionality, the only difference is that lasso uses L1 normalization i.e. absolute value of slope instead of squares of slope.\n",
    "\n",
    "`Lasso regeression = Minimization objective = Least Squares(Without Regularization) + α * (abs(Slope))`"
   ]
  },
  {
   "cell_type": "markdown",
   "id": "popular-wonder",
   "metadata": {},
   "source": [
    "2.3.2 Implement Lasso regression and make a table of different RMSE scores you achieved with different values of alpha. What does the parameter `alpha` do? How does it affect the results here? Explain in 5-10 lines in total."
   ]
  },
  {
   "cell_type": "code",
   "execution_count": 17,
   "id": "extra-brighton",
   "metadata": {},
   "outputs": [],
   "source": [
    "# implement Lasso regression and make a table where you explore the effect of different values of `alpha`"
   ]
  },
  {
   "cell_type": "code",
   "execution_count": 18,
   "id": "accompanied-worst",
   "metadata": {},
   "outputs": [
    {
     "data": {
      "text/html": [
       "<div>\n",
       "<style scoped>\n",
       "    .dataframe tbody tr th:only-of-type {\n",
       "        vertical-align: middle;\n",
       "    }\n",
       "\n",
       "    .dataframe tbody tr th {\n",
       "        vertical-align: top;\n",
       "    }\n",
       "\n",
       "    .dataframe thead th {\n",
       "        text-align: right;\n",
       "    }\n",
       "</style>\n",
       "<table border=\"1\" class=\"dataframe\">\n",
       "  <thead>\n",
       "    <tr style=\"text-align: right;\">\n",
       "      <th></th>\n",
       "      <th>alpha</th>\n",
       "      <th>MSE</th>\n",
       "    </tr>\n",
       "  </thead>\n",
       "  <tbody>\n",
       "    <tr>\n",
       "      <th>0</th>\n",
       "      <td>100.000</td>\n",
       "      <td>0.337599</td>\n",
       "    </tr>\n",
       "    <tr>\n",
       "      <th>1</th>\n",
       "      <td>10.000</td>\n",
       "      <td>0.337599</td>\n",
       "    </tr>\n",
       "    <tr>\n",
       "      <th>2</th>\n",
       "      <td>1.000</td>\n",
       "      <td>0.337599</td>\n",
       "    </tr>\n",
       "    <tr>\n",
       "      <th>3</th>\n",
       "      <td>0.100</td>\n",
       "      <td>0.306789</td>\n",
       "    </tr>\n",
       "    <tr>\n",
       "      <th>4</th>\n",
       "      <td>0.010</td>\n",
       "      <td>0.111429</td>\n",
       "    </tr>\n",
       "    <tr>\n",
       "      <th>5</th>\n",
       "      <td>0.001</td>\n",
       "      <td>0.116785</td>\n",
       "    </tr>\n",
       "  </tbody>\n",
       "</table>\n",
       "</div>"
      ],
      "text/plain": [
       "     alpha       MSE\n",
       "0  100.000  0.337599\n",
       "1   10.000  0.337599\n",
       "2    1.000  0.337599\n",
       "3    0.100  0.306789\n",
       "4    0.010  0.111429\n",
       "5    0.001  0.116785"
      ]
     },
     "execution_count": 18,
     "metadata": {},
     "output_type": "execute_result"
    }
   ],
   "source": [
    "from sklearn.linear_model import Lasso\n",
    "from sklearn.metrics import mean_squared_error\n",
    "\n",
    "lr_dict = dict()\n",
    "for a in alpha_list:\n",
    "    lr = Lasso(alpha=a)\n",
    "    lr.fit(x_train, y_train)\n",
    "\n",
    "    lr_dict[a] = np.sqrt(mean_squared_error(y_test, lr.predict(x_test)))\n",
    "\n",
    "\n",
    "pd.DataFrame(list(lr_dict.items()), columns=[\"alpha\", \"MSE\"])"
   ]
  }
 ],
 "metadata": {
  "kernelspec": {
   "display_name": "Python 3",
   "language": "python",
   "name": "python3"
  },
  "language_info": {
   "codemirror_mode": {
    "name": "ipython",
    "version": 3
   },
   "file_extension": ".py",
   "mimetype": "text/x-python",
   "name": "python",
   "nbconvert_exporter": "python",
   "pygments_lexer": "ipython3",
   "version": "3.8.6"
  }
 },
 "nbformat": 4,
 "nbformat_minor": 5
}
